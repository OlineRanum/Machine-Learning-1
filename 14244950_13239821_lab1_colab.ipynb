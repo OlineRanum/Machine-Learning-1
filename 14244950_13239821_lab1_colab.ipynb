{
  "cells": [
    {
      "cell_type": "markdown",
      "metadata": {
        "id": "view-in-github",
        "colab_type": "text"
      },
      "source": [
        "<a href=\"https://colab.research.google.com/github/OlineRanum/Machine-Learning-1/blob/main/14244950_13239821_lab1_colab.ipynb\" target=\"_parent\"><img src=\"https://colab.research.google.com/assets/colab-badge.svg\" alt=\"Open In Colab\"/></a>"
      ]
    },
    {
      "cell_type": "markdown",
      "metadata": {
        "id": "BFqtxslP_RlH"
      },
      "source": [
        "# **Save this file as studentid1_studentid2_lab#.ipynb**\n",
        "(Your student-id is the number shown on your student card.)\n",
        "\n",
        "E.g. if you work with 2 people, the notebook should be named:\n",
        "12301230_3434343_lab1.ipynb.\n",
        "\n",
        "**IMPORTANT: This will be parsed by a regexp, so please double check your filename.**\n",
        "\n",
        "**Only one member of each group has to submit the file to canvas.**\n",
        "\n",
        "Before you turn this problem in, please make sure everything runs correctly. First, **restart the kernel** (in the menubar, select Kernel$\\rightarrow$Restart) and then **run all cells** (in the menubar, select Cell$\\rightarrow$Run All). Note, that **you are not allowed to use Google Colab**.\n",
        "\n",
        "**Make sure you fill in any place that says `YOUR CODE HERE`.**\n",
        "\n",
        "**Finally, please add your names and email adresses below.**\n",
        "\n"
      ]
    },
    {
      "cell_type": "markdown",
      "metadata": {
        "id": "JFeTcjuV_RlJ"
      },
      "source": [
        "NAME = \"Oline Ranum\"\n",
        "NAME2 = \"Gerard Planella Fontanillas\"\n",
        "EMAIL = \"oline.ranum@student.uva.nl\"\n",
        "EMAIL2 = \"gerard.planella.fontanillas@student.uva.nl\""
      ]
    },
    {
      "cell_type": "markdown",
      "metadata": {
        "deletable": false,
        "editable": false,
        "nbgrader": {
          "cell_type": "markdown",
          "checksum": "eaaf2fb2ecaccfb8bf4a426f31b71969",
          "grade": false,
          "grade_id": "cell-447a8ab4c82429ab",
          "locked": true,
          "schema_version": 3,
          "solution": false
        },
        "id": "8uXtJ3_h_RlK"
      },
      "source": [
        "# Lab 1: Linear Regression and Overfitting\n",
        "\n",
        "### Machine Learning 1, September/October 2022\n",
        "\n",
        "Notes on implementation:\n",
        "\n",
        "* You should write your code and answers in this IPython Notebook: http://ipython.org/notebook.html. If you have problems, please contact your TA.\n",
        "* Among the first lines of your notebook should be \"%pylab inline\". This imports all required modules, and your plots will appear inline.\n",
        "* Refer to last week's lab notes, i.e. http://docs.scipy.org/doc/, if you are unsure about what function to use. There are different correct ways to implement each problem!\n",
        "* For this lab, your regression solutions should be in closed form, i.e., should not perform iterative gradient-based optimization but find the exact optimum directly.\n",
        "*Use the provided test boxes to check if your answers are correct.\n",
        "* **Do not change the arugments in our functions!**\n",
        "* **Do not remove add new cells. If you do so you should expect a penalty from ourside!**\n",
        "\n",
        "### Relevant materials for this assignment\n",
        "\n",
        "* Erik's video lectures Week 3 and 4 \n",
        "* Christopher Bishop book: Pattern recognition and machine learning (Chapter 3)\n",
        "* Mathematics for machine learning (Section 8.3 and 8.4)"
      ]
    },
    {
      "cell_type": "code",
      "execution_count": 1,
      "metadata": {
        "deletable": false,
        "editable": false,
        "nbgrader": {
          "cell_type": "code",
          "checksum": "9c278ee9abc89a5ef5d829c1049141d2",
          "grade": false,
          "grade_id": "cell-a31fbe1e5a0de9bb",
          "locked": true,
          "schema_version": 3,
          "solution": false
        },
        "colab": {
          "base_uri": "https://localhost:8080/"
        },
        "id": "AxRutuWp_RlL",
        "outputId": "f389b037-d7c7-4d4f-c86e-5e80fcc4e65e"
      },
      "outputs": [
        {
          "output_type": "stream",
          "name": "stdout",
          "text": [
            "Populating the interactive namespace from numpy and matplotlib\n"
          ]
        }
      ],
      "source": [
        "%pylab inline\n",
        "plt.rcParams[\"figure.figsize\"] = [20,10]"
      ]
    },
    {
      "cell_type": "code",
      "execution_count": 2,
      "metadata": {
        "deletable": false,
        "editable": false,
        "nbgrader": {
          "cell_type": "code",
          "checksum": "b34b7d99a00f6eade32dc3217f47acee",
          "grade": false,
          "grade_id": "cell-369c3e293a3f9c73",
          "locked": true,
          "schema_version": 3,
          "solution": false
        },
        "colab": {
          "base_uri": "https://localhost:8080/"
        },
        "id": "l3XquhtQ_RlM",
        "outputId": "bdc0aa90-4128-4540-fe49-8d6afb534cf0"
      },
      "outputs": [
        {
          "output_type": "stream",
          "name": "stdout",
          "text": [
            "Update matplotlib to version 3.5.1. Current version is 3.2.2.\n",
            "Update numpy to version 1.22.3. Current version is 1.21.6.\n",
            "Update python to version 3.9.5. Current version is 3.7.13.\n",
            "Update sklearn to version 1.1.1. Current version is 1.0.2.\n",
            "Install nb_conda with version 2.2.1 or newer, it is required for this assignment!\n",
            "Please, don't use google colab!\n",
            "It will make it much more complicated for us to check your homework as it merges all the cells into one.\n"
          ]
        }
      ],
      "source": [
        "# This cell makes sure that you have all the necessary libraries installed\n",
        "\n",
        "import sys\n",
        "import platform\n",
        "from importlib.util import find_spec, module_from_spec\n",
        "\n",
        "def check_newer_version(version_inst, version_nec):\n",
        "    version_inst_split = version_inst.split('.')\n",
        "    version_nec_split = version_nec.split('.')\n",
        "    for i in range(min(len(version_inst_split), len(version_nec_split))):\n",
        "        if int(version_nec_split[i]) > int(version_inst_split[i]):\n",
        "            return False\n",
        "        elif int(version_nec_split[i]) < int(version_inst_split[i]):\n",
        "            return True\n",
        "    return True\n",
        "\n",
        "\n",
        "module_list = [('jupyter', '1.0.0'), \n",
        "               ('matplotlib', '3.5.1'), \n",
        "               ('numpy', '1.22.3'), \n",
        "               ('python', '3.9.5'), \n",
        "               ('sklearn', '1.1.1'), \n",
        "               ('scipy', '1.7.3'), \n",
        "               ('nb_conda', '2.2.1')]\n",
        "\n",
        "packages_correct = True\n",
        "packages_errors = []\n",
        "\n",
        "for module_name, version in module_list:\n",
        "    if module_name == 'scikit-learn':\n",
        "        module_name = 'sklearn'\n",
        "    if 'python' in module_name:\n",
        "        python_version = platform.python_version()\n",
        "        if not check_newer_version(python_version, version):\n",
        "            packages_correct = False\n",
        "            error = f'Update {module_name} to version {version}. Current version is {python_version}.'\n",
        "            packages_errors.append(error) \n",
        "            print(error)\n",
        "    else:\n",
        "        spec = find_spec(module_name)\n",
        "        if spec is None:\n",
        "            packages_correct = False\n",
        "            error = f'Install {module_name} with version {version} or newer, it is required for this assignment!'\n",
        "            packages_errors.append(error) \n",
        "            print(error)\n",
        "        else:\n",
        "            x = __import__(module_name)\n",
        "            if hasattr(x, '__version__') and not check_newer_version(x.__version__, version):\n",
        "                packages_correct = False\n",
        "                error = f'Update {module_name} to version {version}. Current version is {x.__version__}.'\n",
        "                packages_errors.append(error) \n",
        "                print(error)\n",
        "\n",
        "try:\n",
        "    from google.colab import drive\n",
        "    packages_correct = False\n",
        "    error = \"\"\"Please, don't use google colab!\n",
        "It will make it much more complicated for us to check your homework as it merges all the cells into one.\"\"\"\n",
        "    packages_errors.append(error) \n",
        "    print(error)\n",
        "except:\n",
        "    pass\n",
        "\n",
        "packages_errors = '\\n'.join(packages_errors)"
      ]
    },
    {
      "cell_type": "markdown",
      "metadata": {
        "deletable": false,
        "editable": false,
        "nbgrader": {
          "cell_type": "markdown",
          "checksum": "0fc3de93f1cd1e0eff54719a986fe140",
          "grade": false,
          "grade_id": "cell-505d034435d52b27",
          "locked": true,
          "schema_version": 3,
          "solution": false
        },
        "id": "ndVUDQNM_RlN"
      },
      "source": [
        "Relevant materials for this part:\n",
        "\n",
        "* Erik's lecture 3.1 and 3.2\n",
        "* Section 1.1 and 3.1 from Bishop's book Pattern recognition for machine learning.\n",
        "* Mathematics for machine learning (Section 8.3)\n",
        "\n",
        "\n",
        "### 1.1. Generate periodic data (5 points)\n",
        "Write a method `gen_sine(N)` that generates toy data like in fig 1.2 of Bishop's book. The method should have a parameter $N$, and should return $N$-dimensional vectors $\\mathbf{x}$ and $\\mathbf{t}$, where $\\mathbf{x}$ contains evenly spaced values from 0 to (including) 2$\\pi$, and the elements $t_i$ of $\\mathbf{t}$ are distributed according to:\n",
        "\n",
        "$$t_i \\sim \\mathcal{N}(\\mu_i, \\sigma^2)$$\n",
        "\n",
        "where $x_i$ is the $i$-th elements of $\\bf{x}$, the mean $\\mu_i = \\sin(x_i)$ and the standard deviation $\\sigma = 0.25$. You can make use of `np.random.normal()` (Hint: Double check its input parameters).\n"
      ]
    },
    {
      "cell_type": "code",
      "execution_count": 3,
      "metadata": {
        "deletable": false,
        "nbgrader": {
          "cell_type": "code",
          "checksum": "30aed6e34ece9a80b25a90160e998019",
          "grade": false,
          "grade_id": "cell-1c8c68d862f80f7e",
          "locked": false,
          "schema_version": 3,
          "solution": true
        },
        "id": "a0cpwZSs_RlO"
      },
      "outputs": [],
      "source": [
        "def gen_sine(n):\n",
        "    \n",
        "    x = np.linspace(0, 2*np.pi, n)\n",
        "    \n",
        "    t = np.random.normal(np.sin(x), 0.25)\n",
        "\n",
        "    return x, t\n"
      ]
    },
    {
      "cell_type": "code",
      "execution_count": 4,
      "metadata": {
        "colab": {
          "base_uri": "https://localhost:8080/",
          "height": 609
        },
        "id": "5ZMGtkmN_RlO",
        "outputId": "545f9071-f900-4c32-ddfc-854e1b620709"
      },
      "outputs": [
        {
          "output_type": "execute_result",
          "data": {
            "text/plain": [
              "[<matplotlib.lines.Line2D at 0x7f45bc187650>]"
            ]
          },
          "metadata": {},
          "execution_count": 4
        },
        {
          "output_type": "display_data",
          "data": {
            "text/plain": [
              "<Figure size 1440x720 with 1 Axes>"
            ],
            "image/png": "[encoded data removed]"
          },
          "metadata": {
            "needs_background": "light"
          }
        }
      ],
      "source": [
        "import matplotlib.pyplot as plt\n",
        "\n",
        "x, t = gen_sine(50)\n",
        "plt.plot(x, t, \"o\")"
      ]
    },
    {
      "cell_type": "code",
      "execution_count": 5,
      "metadata": {
        "deletable": false,
        "editable": false,
        "nbgrader": {
          "cell_type": "code",
          "checksum": "06c7e4b785bfefb251544e053366c004",
          "grade": true,
          "grade_id": "cell-afc3c8025a62af85",
          "locked": true,
          "points": 5,
          "schema_version": 3,
          "solution": false
        },
        "id": "F-mDdlxB_RlP"
      },
      "outputs": [],
      "source": [
        "### Test your function\n",
        "np.random.seed(42)\n",
        "N = 10\n",
        "x, t = gen_sine(N)\n",
        "\n",
        "assert x.shape == (N,), \"the shape of x is incorrect\"\n",
        "assert t.shape == (N,), \"the shape of t is incorrect\"\n",
        "\n"
      ]
    },
    {
      "cell_type": "markdown",
      "metadata": {
        "deletable": false,
        "editable": false,
        "nbgrader": {
          "cell_type": "markdown",
          "checksum": "63fa8b093c4034fdd2be9d30cd92b23f",
          "grade": false,
          "grade_id": "cell-22a999e8760129f8",
          "locked": true,
          "schema_version": 3,
          "solution": false
        },
        "id": "Y23QNAPt_RlP"
      },
      "source": [
        "### 1.2 Polynomial regression (10 points)\n",
        "\n",
        "Write a method `fit_polynomial(x, t, M)` that finds the maximum-likelihood solution of an _unregularized_ $M$-th order polynomial for some dataset `x`. The error function to minimize w.r.t. $\\mathbf{w}$ is:\n",
        "\n",
        "$E(\\mathbf{w}) = \\frac{1}{2} (\\mathbf{\\Phi} \\mathbf{w} - \\mathbf{t})^T(\\mathbf{\\Phi} \\mathbf{w} - \\mathbf{t})$\n",
        "\n",
        "where $\\mathbf{\\Phi}$ is the _feature matrix_ (or _design matrix_) as explained in Bishop's book at section 3.1.1, $\\mathbf{t}$ is the vector of target values. Your method should return a vector $\\mathbf{w}$ with the maximum-likelihood parameter estimates, as well as the _feature matrix_ $\\mathbf{\\Phi}$."
      ]
    },
    {
      "cell_type": "code",
      "execution_count": 6,
      "metadata": {
        "deletable": false,
        "nbgrader": {
          "cell_type": "code",
          "checksum": "e5f21a1de6f35ff5c520db69540d71c7",
          "grade": false,
          "grade_id": "cell-27b0d6f1bcdeb97b",
          "locked": false,
          "schema_version": 3,
          "solution": true
        },
        "id": "OmjI41c4_RlP"
      },
      "outputs": [],
      "source": [
        "def designmatrix(x, M): # it is highly recommended to write a helper function that computes Phi\n",
        "    a = np.ones(x.shape[0])\n",
        "    for i in range(M):\n",
        "        a = np.c_[a, np.power(x, i+1)]\n",
        "    return a\n",
        "\n",
        "def fit_polynomial(x, t, M):\n",
        "    #TODO: Resolve M = 0\n",
        "    Phi = designmatrix(x, M)\n",
        "    A = np.matmul(Phi.T, Phi)\n",
        "    invA = np.linalg.inv(A)\n",
        "    B = np.matmul(invA, Phi.T)\n",
        "    w_ml = np.matmul(B, t.T)\n",
        "    return w_ml, Phi\n"
      ]
    },
    {
      "cell_type": "code",
      "execution_count": 7,
      "metadata": {
        "deletable": false,
        "editable": false,
        "nbgrader": {
          "cell_type": "code",
          "checksum": "ed92cddb718e1dd55d7a0d1cc1d623a7",
          "grade": true,
          "grade_id": "cell-7e0f87e75d7c82aa",
          "locked": true,
          "points": 10,
          "schema_version": 3,
          "solution": false
        },
        "id": "zZR4DD0u_RlQ"
      },
      "outputs": [],
      "source": [
        "### Test your function\n",
        "N = 10\n",
        "x = np.linspace(-1, 1, N)\n",
        "t = 0.3*np.square(x) + 2.5\n",
        "m = 2\n",
        "w, Phi = fit_polynomial(x,t,m)\n",
        "\n",
        "assert w.shape == (m+1,), \"The shape of w is incorrect\"\n",
        "assert Phi.shape == (N, m+1), \"The shape of Phi is incorrect\"\n",
        "\n"
      ]
    },
    {
      "cell_type": "markdown",
      "metadata": {
        "deletable": false,
        "editable": false,
        "nbgrader": {
          "cell_type": "markdown",
          "checksum": "36a4843effb733479987c3d11dba190f",
          "grade": false,
          "grade_id": "cell-f4d51f8338ebdb54",
          "locked": true,
          "schema_version": 3,
          "solution": false
        },
        "id": "Sz1dyDP9_RlQ"
      },
      "source": [
        "### 1.3 Plot (5 points)\n",
        "Sample a dataset with $N=10$, and fit four polynomials with $M \\in (0, 2, 4, 8)$.\n",
        "For each value of $M$, plot the prediction function, along with the data and the original sine function. The resulting figure should look similar to fig 1.4 of the Bishop's book. Note that you can use matplotlib's `plt.pyplot(.)` functionality for creating grids of figures."
      ]
    },
    {
      "cell_type": "code",
      "execution_count": 9,
      "metadata": {
        "deletable": false,
        "nbgrader": {
          "cell_type": "code",
          "checksum": "0009313fff1f2cd716d4e81f0f2ec5ff",
          "grade": true,
          "grade_id": "cell-2774a098ae80cb7e",
          "locked": false,
          "points": 5,
          "schema_version": 3,
          "solution": true
        },
        "colab": {
          "base_uri": "https://localhost:8080/",
          "height": 700
        },
        "id": "JVhCGLp9_RlQ",
        "outputId": "bc0e0193-509a-47b5-bb9b-a6f0ce1aae2b"
      },
      "outputs": [
        {
          "output_type": "stream",
          "name": "stdout",
          "text": [
            "[ 9.47577216e-01 -3.03720040e-01  8.67415554e-04]\n",
            "[-0.27555063  2.10530566 -1.01152692  0.12440991 -0.00236566]\n",
            "[-8.57042168e-03  6.97208594e-01  9.26419639e-01 -1.15682763e+00\n",
            "  5.28374290e-01 -1.48469085e-01  2.61969814e-02 -2.52461701e-03\n",
            "  9.90076168e-05]\n"
          ]
        },
        {
          "output_type": "execute_result",
          "data": {
            "text/plain": [
              "<matplotlib.legend.Legend at 0x7f45abe1f350>"
            ]
          },
          "metadata": {},
          "execution_count": 9
        },
        {
          "output_type": "display_data",
          "data": {
            "text/plain": [
              "<Figure size 1440x720 with 1 Axes>"
            ],
            "image/png": "[encoded data removed]"
          },
          "metadata": {
            "needs_background": "light"
          }
        }
      ],
      "source": [
        "\n",
        "np.random.seed(42)\n",
        "N = 1000\n",
        "x, t = gen_sine(N)\n",
        "m = [2, 4, 8]\n",
        "n_m = len(m)\n",
        "\n",
        "\n",
        "w_grouped = []\n",
        "Phi_grouped = []\n",
        "prediction = []\n",
        "\n",
        "for i in range(n_m):\n",
        "    _w, _Phi = fit_polynomial(x, t, m[i])\n",
        "    w_grouped.append(_w)\n",
        "    Phi_grouped.append(_Phi)\n",
        "    prediction.append(np.matmul(_Phi, _w))\n",
        "    print(_w)\n",
        "    \n",
        "\n",
        "    \n",
        "plot(x, t, \"o\")\n",
        "for i, pred in enumerate(prediction):\n",
        "    plot(x, pred, label=f\"{m[i]}\")\n",
        "ylim((-2, 2))\n",
        "legend()    \n",
        "\n",
        "\n"
      ]
    },
    {
      "cell_type": "markdown",
      "metadata": {
        "deletable": false,
        "editable": false,
        "nbgrader": {
          "cell_type": "markdown",
          "checksum": "9abf4299934215684b8ec52b10c76f50",
          "grade": false,
          "grade_id": "cell-2597ee45cb3998ed",
          "locked": true,
          "schema_version": 3,
          "solution": false
        },
        "id": "0W7d0ns0_RlR"
      },
      "source": [
        "### 1.4 Regularized linear regression (15 points)\n",
        "\n",
        "Relevant material for this part:\n",
        "\n",
        "* Lecture 3.5 (Regularized Least Squares)\n",
        "* Section 1.1 and 3.1.4 from Bishop's book Pattern recognition for machine learning.\n",
        "* Mathematics for machine learning (Section 8.3.2)\n",
        "\n",
        "a) (10 points) Write a method `fit_polynomial_reg(x, t, M, lamb)` that fits a _regularized_ $M$-th order polynomial to the periodic data, as discussed in the lectures, where `lamb` is the regularization term _lambda_. (Note that 'lambda' cannot be used as a variable name in Python since it has a special meaning). The error function to minimize w.r.t. $\\mathbf{w}$:\n",
        "\n",
        "$E(\\mathbf{w}) = \\frac{1}{2} (\\mathbf{\\Phi}\\mathbf{w}- \\mathbf{t})^T(\\mathbf{\\Phi}\\mathbf{w}- \\mathbf{t}) + \\frac{\\lambda}{2} \\mathbf{w}^T \\mathbf{w}$\n",
        "\n",
        "\n",
        "The function should return $\\mathbf{w}$ and $ \\mathbf{\\Phi} $."
      ]
    },
    {
      "cell_type": "code",
      "execution_count": null,
      "metadata": {
        "deletable": false,
        "nbgrader": {
          "cell_type": "code",
          "checksum": "dc76736fba956e5d9cc51a318c2507c3",
          "grade": false,
          "grade_id": "cell-9fe81fd5537daff9",
          "locked": false,
          "schema_version": 3,
          "solution": true
        },
        "id": "sSwOgbNg_RlR"
      },
      "outputs": [],
      "source": [
        "def fit_polynomial_reg(x, t, m, lamb):\n",
        "    # YOUR CODE HERE\n",
        "    raise NotImplementedError()\n",
        "    \n",
        "    return w_ml, Phi\n"
      ]
    },
    {
      "cell_type": "code",
      "execution_count": null,
      "metadata": {
        "deletable": false,
        "editable": false,
        "nbgrader": {
          "cell_type": "code",
          "checksum": "385d6b45a599e72289ac08f2c948303d",
          "grade": true,
          "grade_id": "cell-a2e561cbc5a4140b",
          "locked": true,
          "points": 10,
          "schema_version": 3,
          "solution": false
        },
        "id": "Y9hII7PE_RlS"
      },
      "outputs": [],
      "source": [
        "### Test your function\n",
        "N = 10\n",
        "x = np.linspace(-1, 1, N)\n",
        "t = 0.3*np.square(x) + 2.5\n",
        "m = 2\n",
        "lamb = 0.1\n",
        "w, Phi = fit_polynomial_reg(x,t,m, lamb)\n",
        "\n",
        "assert w.shape == (m+1,), \"The shape of w is incorrect\"\n",
        "assert Phi.shape == (N, m+1), \"The shape of w is incorrect\" \n",
        "\n"
      ]
    },
    {
      "cell_type": "markdown",
      "metadata": {
        "deletable": false,
        "editable": false,
        "nbgrader": {
          "cell_type": "markdown",
          "checksum": "0908f58f17d268af3d1d05466b2c7a75",
          "grade": false,
          "grade_id": "cell-ef31ad7f9dde2832",
          "locked": true,
          "schema_version": 3,
          "solution": false
        },
        "id": "bCdShqkp_RlS"
      },
      "source": [
        "b) (5 points) What changes do you notice in $\\mathbf{w}$ and $\\mathbf{\\Phi}$ after introducing the regularization term? Why is this happening? \n",
        "\n",
        "(Write no more than 5 lines. For example, you can consider the simple test case with $t = 0.3*x^2 + 2.5$)"
      ]
    },
    {
      "cell_type": "markdown",
      "metadata": {
        "deletable": false,
        "nbgrader": {
          "cell_type": "markdown",
          "checksum": "8990249d9a7d7ab5efc9132556eedc79",
          "grade": true,
          "grade_id": "cell-b13920c70ed20823",
          "locked": false,
          "points": 5,
          "schema_version": 3,
          "solution": true
        },
        "id": "Lesc0ECW_RlS"
      },
      "source": [
        "YOUR ANSWER HERE"
      ]
    },
    {
      "cell_type": "markdown",
      "metadata": {
        "deletable": false,
        "editable": false,
        "nbgrader": {
          "cell_type": "markdown",
          "checksum": "a67e080ea71ecb2545a7e316e73497ca",
          "grade": false,
          "grade_id": "cell-638bbedf69267917",
          "locked": true,
          "schema_version": 3,
          "solution": false
        },
        "id": "laRuwazl_RlT"
      },
      "source": [
        "### 1.5 Model selection by cross-validation (15 points)\n",
        "\n",
        "Relevant material for this part:\n",
        "\n",
        "* Lecture 4.1 and 4.2 (Model Selection, Bias Variance Decomposition)\n",
        "\n",
        "Use cross-validation to find a good choice of $M$ and $\\lambda$, given a dataset of $N=10$ datapoints generated with `gen_sine(10)`. You should write a function that tries (loops over) a reasonable range of choices of $M$ and $\\lambda$, and returns the choice with the best cross-validation error. In this case you use $K=5$ folds.\n",
        "\n",
        "You can let $M \\in (0, 1, ..., 10)$, and let $\\lambda \\in (e^{-10}, e^{-9}, ..., e^{0})$.\n",
        "\n",
        "a) (5 points) First of all, write a method `pred_error(x_train, x_valid, t_train, t_valid, M, lamb)` that compares the prediction of your method `fit_polynomial_reg` for a given set of parameters $M$ and $\\lambda$ to `t_valid`. It should return the prediction error for a single fold."
      ]
    },
    {
      "cell_type": "code",
      "execution_count": null,
      "metadata": {
        "deletable": false,
        "nbgrader": {
          "cell_type": "code",
          "checksum": "2cfb7f4cc04e4af74f4655e772e33b09",
          "grade": false,
          "grade_id": "cell-d631a845dec603be",
          "locked": false,
          "schema_version": 3,
          "solution": true
        },
        "id": "obt6dox6_RlT"
      },
      "outputs": [],
      "source": [
        "def pred_error(x_train, x_valid, t_train, t_valid, M, reg):\n",
        "    # YOUR CODE HERE\n",
        "    raise NotImplementedError()\n",
        "    \n",
        "    return pred_err\n"
      ]
    },
    {
      "cell_type": "code",
      "execution_count": null,
      "metadata": {
        "deletable": false,
        "editable": false,
        "nbgrader": {
          "cell_type": "code",
          "checksum": "42af593fbc74b19e94e38035eecbcb8f",
          "grade": true,
          "grade_id": "cell-ba7261e2eae040fd",
          "locked": true,
          "points": 5,
          "schema_version": 3,
          "solution": false
        },
        "id": "5AHAkPNJ_RlU"
      },
      "outputs": [],
      "source": [
        "### Test your function\n",
        "N = 10\n",
        "x = np.linspace(-1, 1, N)\n",
        "t = 0.3*np.square(x) + 2.5\n",
        "M = 2\n",
        "reg = 0.1\n",
        "pred_err = pred_error(x[:-2], x[-2:], t[:-2], t[-2:], M, reg)\n",
        "\n",
        "assert pred_err < 0.001, \"pred_err is too big\"\n",
        "\n"
      ]
    },
    {
      "cell_type": "markdown",
      "metadata": {
        "deletable": false,
        "editable": false,
        "nbgrader": {
          "cell_type": "markdown",
          "checksum": "0e6aab76a18a6ef5f13d92c330d3cd5c",
          "grade": false,
          "grade_id": "cell-4c1ef9acd1f93493",
          "locked": true,
          "schema_version": 3,
          "solution": false
        },
        "id": "3Qo1il01_RlU"
      },
      "source": [
        "b) (10 points) Now write a method find_best_m_and_lamb(x, t) that finds the best values for $M$ and $\\lambda$. The method should return the best $M$ and $\\lambda$. To get you started, here is a method you can use to generate indices of cross-validation folds."
      ]
    },
    {
      "cell_type": "code",
      "execution_count": null,
      "metadata": {
        "deletable": false,
        "editable": false,
        "nbgrader": {
          "cell_type": "code",
          "checksum": "d673ab5c8a9231852af04a728bf93253",
          "grade": false,
          "grade_id": "cell-9abfee773ee6f780",
          "locked": true,
          "schema_version": 3,
          "solution": false
        },
        "id": "bE034OO__RlV"
      },
      "outputs": [],
      "source": [
        "def kfold_indices(N, k):\n",
        "    all_indices = np.arange(N,dtype=int)\n",
        "    np.random.shuffle(all_indices)\n",
        "    idx = [int(i) for i in np.floor(np.linspace(0,N,k+1))]\n",
        "    train_folds = []\n",
        "    valid_folds = []\n",
        "    for fold in range(k):\n",
        "        valid_indices = all_indices[idx[fold]:idx[fold+1]]\n",
        "        valid_folds.append(valid_indices)\n",
        "        train_folds.append(np.setdiff1d(all_indices, valid_indices))\n",
        "    return train_folds, valid_folds\n"
      ]
    },
    {
      "cell_type": "code",
      "execution_count": null,
      "metadata": {
        "deletable": false,
        "nbgrader": {
          "cell_type": "code",
          "checksum": "65930a94ed4b46300fcf5aef054662a0",
          "grade": false,
          "grade_id": "cell-0553f08188fbfcd6",
          "locked": false,
          "schema_version": 3,
          "solution": true
        },
        "id": "zmYnNDkJ_RlV"
      },
      "outputs": [],
      "source": [
        "def find_best_m_and_lamb(x, t):\n",
        "    # YOUR CODE HERE\n",
        "    raise NotImplementedError()\n",
        "    \n",
        "    return M_best, lamb_best\n"
      ]
    },
    {
      "cell_type": "code",
      "execution_count": null,
      "metadata": {
        "deletable": false,
        "editable": false,
        "nbgrader": {
          "cell_type": "code",
          "checksum": "01a14ccab5e63d3e68aa7bc209fc96f9",
          "grade": true,
          "grade_id": "cell-523aa38e51c8913c",
          "locked": true,
          "points": 10,
          "schema_version": 3,
          "solution": false
        },
        "id": "3wby98Zt_RlV"
      },
      "outputs": [],
      "source": [
        "### This is not an empty cell (You don't need to care about it)."
      ]
    },
    {
      "cell_type": "markdown",
      "metadata": {
        "deletable": false,
        "editable": false,
        "nbgrader": {
          "cell_type": "markdown",
          "checksum": "deeea83a847700e394b4255c8a87b84e",
          "grade": false,
          "grade_id": "cell-bef728e3824c8408",
          "locked": true,
          "schema_version": 3,
          "solution": false
        },
        "id": "4r6zH2Jm_RlV"
      },
      "source": [
        "### 1.6 Why grid search? (5 points)\n",
        "\n",
        "Grid search is an commonly-used technique to tune hyper-parameters in a model.\n",
        "Considering the case described in the previous step of this assignment, running a grid search over the possible parameter values (10 possible values for both $M$ and $\\lambda$), results in two nested loops exploring $10 \\times 10 = 100$ different configurations for the model. \n",
        "\n",
        "a) (3 points) Why do we want to optimize by changing the two hyperparameters at the same time, and not in a sequential way? We could initialise all parameters randomly, fix one parameter at a time and iterate over the other, resulting in only $10 + 10 = 20$ experiments!"
      ]
    },
    {
      "cell_type": "markdown",
      "metadata": {
        "deletable": false,
        "nbgrader": {
          "cell_type": "markdown",
          "checksum": "de61dba67bed18b05301143c8a05a6c0",
          "grade": true,
          "grade_id": "cell-6bc03518283a57c2",
          "locked": false,
          "points": 3,
          "schema_version": 3,
          "solution": true
        },
        "id": "gCtCLQot_RlW"
      },
      "source": [
        "YOUR ANSWER HERE"
      ]
    },
    {
      "cell_type": "markdown",
      "metadata": {
        "deletable": false,
        "editable": false,
        "nbgrader": {
          "cell_type": "markdown",
          "checksum": "2214afd7a561b8d9aa209e79be97e557",
          "grade": false,
          "grade_id": "cell-bea7dd205dc0bb91",
          "locked": true,
          "schema_version": 3,
          "solution": false
        },
        "id": "axJH889w_RlW"
      },
      "source": [
        "For more complex models, the number of combinations easily explodes with the number of parameters. For example, with 5 parameters we would run $10 \\times 10 \\times 10 \\times 10 \\times 10 = 100,000$ experiments.\n",
        "\n",
        "b) (2 points) Try to think or find in literature one alternative to grid search to tune hyper-parameters more efficiently. Explain very briefly (2-3 lines max) how this method avoids the combinatorial explosion we have see in grid search."
      ]
    },
    {
      "cell_type": "markdown",
      "metadata": {
        "deletable": false,
        "nbgrader": {
          "cell_type": "markdown",
          "checksum": "10466bc2141b57ba22c6697bbbfb4e34",
          "grade": true,
          "grade_id": "cell-9bca3266ec3a3b4f",
          "locked": false,
          "points": 2,
          "schema_version": 3,
          "solution": true
        },
        "id": "pdbmYZtU_RlW"
      },
      "source": [
        "YOUR ANSWER HERE"
      ]
    },
    {
      "cell_type": "markdown",
      "metadata": {
        "deletable": false,
        "editable": false,
        "nbgrader": {
          "cell_type": "markdown",
          "checksum": "818d2036edbff780a450e6e1f4123eff",
          "grade": false,
          "grade_id": "cell-13e48288f0ba37af",
          "locked": true,
          "schema_version": 3,
          "solution": false
        },
        "id": "6HLAbFth_RlW"
      },
      "source": [
        "### 1.7 Plot best cross-validated fit (5 points)\n",
        "\n",
        "For some dataset with $N = 10$, plot the model with the optimal $M$ and $\\lambda$ according to the cross-validation error, using the method you just wrote. In addition, the plot should show the dataset itself and the function that we try to approximate. Let the plot make clear which $M$ and $\\lambda$ were found."
      ]
    },
    {
      "cell_type": "code",
      "execution_count": null,
      "metadata": {
        "deletable": false,
        "nbgrader": {
          "cell_type": "code",
          "checksum": "9600d75426aa084eff763220c868f3da",
          "grade": true,
          "grade_id": "cell-f59cac6f24ce02fc",
          "locked": false,
          "points": 5,
          "schema_version": 3,
          "solution": true
        },
        "id": "dzJi--T3_RlW"
      },
      "outputs": [],
      "source": [
        "# YOUR CODE HERE\n",
        "raise NotImplementedError()"
      ]
    },
    {
      "cell_type": "markdown",
      "metadata": {
        "deletable": false,
        "editable": false,
        "nbgrader": {
          "cell_type": "markdown",
          "checksum": "bb34e66d7b32611cf21f1ffab46e7994",
          "grade": false,
          "grade_id": "cell-f471e0e0ddf7667a",
          "locked": true,
          "schema_version": 3,
          "solution": false
        },
        "id": "6xWJ3033_RlX"
      },
      "source": [
        "## Part 2: Bayesian Linear (Polynomial) Regression\n",
        "\n",
        "Relevant material for this part:\n",
        "\n",
        "* Lecture 4.4 and 4.5 (Sequential Bayesian Learning, Bayesian Predictive Distributions)\n",
        "* Section 1.1 and 3.3 from Bishop's book Pattern recognition for machine learning.\n",
        "* Mathematics for machine learning (Section 8.4)\n",
        "\n",
        "### 2.1 Sine 2 (5 points)\n",
        "\n",
        "Write a function `gen_sine2(N)` that behaves identically to `gen_sine(N)` except that the generated values $x_i$ are not linearly spaced, but drawn from a uniform distribution between $0$ and $2 \\pi$."
      ]
    },
    {
      "cell_type": "code",
      "execution_count": null,
      "metadata": {
        "deletable": false,
        "nbgrader": {
          "cell_type": "code",
          "checksum": "734894a81470d4d49711de0c90998d3e",
          "grade": false,
          "grade_id": "cell-36addc88e1b3fe1d",
          "locked": false,
          "schema_version": 3,
          "solution": true
        },
        "id": "45U34rtC_RlX"
      },
      "outputs": [],
      "source": [
        "def gen_sine2(n):\n",
        "    # YOUR CODE HERE\n",
        "    raise NotImplementedError()\n",
        "    \n",
        "    return x, t\n"
      ]
    },
    {
      "cell_type": "code",
      "execution_count": null,
      "metadata": {
        "deletable": false,
        "editable": false,
        "nbgrader": {
          "cell_type": "code",
          "checksum": "7003ef4307addbc6046a90a60fa9a83c",
          "grade": true,
          "grade_id": "cell-57a847b66fb591af",
          "locked": true,
          "points": 5,
          "schema_version": 3,
          "solution": false
        },
        "id": "JqX3scTh_RlX"
      },
      "outputs": [],
      "source": [
        "### Test your function\n",
        "np.random.seed(42)\n",
        "N = 10\n",
        "x, t = gen_sine2(N)\n",
        "\n",
        "assert x.shape == (N,), \"the shape of x is incorrect\"\n",
        "assert t.shape == (N,), \"the shape of t is incorrect\"\n",
        "\n"
      ]
    },
    {
      "cell_type": "markdown",
      "metadata": {
        "deletable": false,
        "editable": false,
        "nbgrader": {
          "cell_type": "markdown",
          "checksum": "d517a4c53ca43f92c1661307021c6403",
          "grade": false,
          "grade_id": "cell-61f32a9b299aa500",
          "locked": true,
          "schema_version": 3,
          "solution": false
        },
        "id": "awD4fxTZ_RlX"
      },
      "source": [
        "### 2.2 Compute Posterior (15 points)\n",
        "\n",
        "You're going to implement a Bayesian linear regression model, and fit it to the periodic data. Your regression model has a zero-mean isotropic Gaussian prior over the parameters, governed by a single (scalar) precision parameter $\\alpha$, i.e.:\n",
        "\n",
        "$$p(\\mathbf{w} \\;|\\; \\alpha) = \\mathcal{N}(\\mathbf{w} \\;|\\; 0, \\alpha^{-1} \\mathbf{I})$$\n",
        "\n",
        "The covariance and mean of the posterior are given by:\n",
        "\n",
        "$$\\mathbf{S}_N= \\left( \\alpha \\mathbf{I} + \\beta \\mathbf{\\Phi}^T \\mathbf{\\Phi} \\right)^{-1} $$\n",
        "$$\\mathbf{m}_N = \\beta\\; \\mathbf{S}_N \\mathbf{\\Phi}^T \\mathbf{t}$$\n",
        "\n",
        "where $\\alpha$ is the precision of the predictive distribution, and $\\beta$ is the noise precision. \n",
        "See MLPR chapter 3.3 for background.\n",
        "\n",
        "Write a method `fit_polynomial_bayes(x, t, M, alpha, beta)` that returns the mean $\\mathbf{m}_N$ and covariance $\\mathbf{S}_N$ of the posterior for a $M$-th order polynomial. In addition it should return the design matrix $\\mathbf{\\Phi}$. The arguments `x`, `t` and `M` have the same meaning as in question 1.2."
      ]
    },
    {
      "cell_type": "code",
      "execution_count": null,
      "metadata": {
        "deletable": false,
        "nbgrader": {
          "cell_type": "code",
          "checksum": "a945f997e9dec6b173c23a922ef773b3",
          "grade": false,
          "grade_id": "cell-24d68ce462db8f40",
          "locked": false,
          "schema_version": 3,
          "solution": true
        },
        "id": "c7hwWfms_RlY"
      },
      "outputs": [],
      "source": [
        "def fit_polynomial_bayes(x, t, M, alpha, beta):\n",
        "    # YOUR CODE HERE\n",
        "    raise NotImplementedError()\n",
        "    \n",
        "    return m, S, Phi\n"
      ]
    },
    {
      "cell_type": "code",
      "execution_count": null,
      "metadata": {
        "deletable": false,
        "editable": false,
        "nbgrader": {
          "cell_type": "code",
          "checksum": "57b6869c4ee7ece5b4ecc93c5d8b3d0b",
          "grade": true,
          "grade_id": "cell-5cf266fca46cd4e9",
          "locked": true,
          "points": 15,
          "schema_version": 3,
          "solution": false
        },
        "id": "rq1uCe6j_RlY"
      },
      "outputs": [],
      "source": [
        "### Test your function\n",
        "N = 10\n",
        "x = np.linspace(-1, 1, N)\n",
        "t = 0.3*np.square(x) + 2.5\n",
        "M = 2\n",
        "alpha = 0.6\n",
        "beta = 16\n",
        "m, S, Phi = fit_polynomial_bayes(x, t, M, alpha, beta)\n",
        "\n",
        "assert m.shape == (M+1,), \"the shape of m is incorrect\" \n",
        "assert S.shape == (M+1, M+1), \"the shape of S is incorrect\"\n",
        "assert Phi.shape == (N, M+1), \"the shape of Phi is incorrect\"\n",
        "\n"
      ]
    },
    {
      "cell_type": "markdown",
      "metadata": {
        "deletable": false,
        "editable": false,
        "nbgrader": {
          "cell_type": "markdown",
          "checksum": "2cf269365fe24f0859598ede452b26bf",
          "grade": false,
          "grade_id": "cell-471f21c230ca4203",
          "locked": true,
          "schema_version": 3,
          "solution": false
        },
        "id": "Z2FboV42_RlY"
      },
      "source": [
        "### 2.3 Prediction (10 points)\n",
        "\n",
        "The predictive distribution of Bayesian linear regression is:\n",
        "\n",
        "$$ p(t \\;|\\; \\mathbf{x}, \\mathbf{t}, \\alpha, \\beta) = \\mathcal{N}(t \\;|\\; \\mathbf{m}_N^T \\phi(\\mathbf{x}), \\sigma_N^2(\\mathbf{x}))$$\n",
        "\n",
        "$$ \\sigma_N^2 = \\frac{1}{\\beta} + \\phi(\\mathbf{x})^T \\mathbf{S}_N \\phi(\\mathbf{x}) $$\n",
        "\n",
        "where $\\phi(\\mathbf{x})$ are the computed features for a new datapoint $\\mathbf{x}$, and $t$ is the predicted variable for datapoint $\\mathbf{x}$. \n",
        "\n",
        "Write a function that `predict_polynomial_bayes(x, m, S, beta)` that returns the predictive mean, variance and design matrix $\\mathbf{\\Phi}$ given a new datapoint `x`, posterior mean `m`, posterior variance `S` and a choice of model variance `beta`."
      ]
    },
    {
      "cell_type": "code",
      "execution_count": null,
      "metadata": {
        "deletable": false,
        "nbgrader": {
          "cell_type": "code",
          "checksum": "45fb4bc1bc26e2e2865d96eee138c9db",
          "grade": false,
          "grade_id": "cell-865ac2a455500d4b",
          "locked": false,
          "schema_version": 3,
          "solution": true
        },
        "id": "Ymt647Ys_RlY"
      },
      "outputs": [],
      "source": [
        "def predict_polynomial_bayes(x, m, S, beta):\n",
        "    # YOUR CODE HERE\n",
        "    raise NotImplementedError()\n",
        "    \n",
        "    return mean, sigma, Phi\n"
      ]
    },
    {
      "cell_type": "code",
      "execution_count": null,
      "metadata": {
        "deletable": false,
        "editable": false,
        "nbgrader": {
          "cell_type": "code",
          "checksum": "6f36b9ca870925b0fc5229e429a95ca0",
          "grade": true,
          "grade_id": "cell-ecb92bcbe0131eb9",
          "locked": true,
          "points": 10,
          "schema_version": 3,
          "solution": false
        },
        "id": "fas8WwdH_RlY"
      },
      "outputs": [],
      "source": [
        "### Test your function\n",
        "np.random.seed(42)\n",
        "N = 10\n",
        "x = np.linspace(-1, 1, N)\n",
        "m = np.random.rand(3)\n",
        "S = np.random.rand(3, 3)\n",
        "beta = 16\n",
        "mean, sigma, Phi = predict_polynomial_bayes(x, m, S, beta)\n",
        "\n",
        "assert mean.shape == (N,), \"the shape of mean is incorrect\"\n",
        "assert sigma.shape == (N,), \"the shape of sigma is incorrect\"\n",
        "assert Phi.shape == (N, m.shape[0]), \"the shape of Phi is incorrect\"\n",
        "\n"
      ]
    },
    {
      "cell_type": "markdown",
      "metadata": {
        "deletable": false,
        "editable": false,
        "nbgrader": {
          "cell_type": "markdown",
          "checksum": "42768579435c85aa3198f6053e2c5e4b",
          "grade": false,
          "grade_id": "cell-50452fe12b83c7ce",
          "locked": true,
          "schema_version": 3,
          "solution": false
        },
        "id": "L5jfN81z_RlZ"
      },
      "source": [
        "### 2.4 Plot predictive distribution (10 points)\n",
        "\n",
        "a) (5 points) Generate 10 datapoints with `gen_sine2(10)`. Compute the posterior mean and covariance for a Bayesian polynomial regression model with $M=4$, $\\alpha=\\frac{2}{5}$ and $\\beta=\\frac{1}{0.25^2}$.\n",
        "Plot the Bayesian predictive distribution, where you plot (for $x$ between 0 and $2 \\pi$) $t$'s predictive mean and the predictive standard deviation using `plt.fill_between(..., alpha=0.1)` (the alpha argument induces transparency).\n",
        "\n",
        "Include the datapoints in your plot.\n"
      ]
    },
    {
      "cell_type": "code",
      "execution_count": null,
      "metadata": {
        "deletable": false,
        "nbgrader": {
          "cell_type": "code",
          "checksum": "4afe3760f68ff7c6b06f18b8e60c71a6",
          "grade": true,
          "grade_id": "cell-81339ee6f9873831",
          "locked": false,
          "points": 5,
          "schema_version": 3,
          "solution": true
        },
        "id": "_MSOnSUJ_RlZ"
      },
      "outputs": [],
      "source": [
        "# YOUR CODE HERE\n",
        "raise NotImplementedError()"
      ]
    },
    {
      "cell_type": "markdown",
      "metadata": {
        "deletable": false,
        "editable": false,
        "nbgrader": {
          "cell_type": "markdown",
          "checksum": "7ce5a14136b89a9d932d032d0cea9c0f",
          "grade": false,
          "grade_id": "cell-c556b2f5fcee8dee",
          "locked": true,
          "schema_version": 3,
          "solution": false
        },
        "id": "AgAGMzNK_RlZ"
      },
      "source": [
        "b) (5 points) For a second plot, draw 100 samples from the parameters' posterior distribution. Each of these samples is a certain choice of parameters for 4-th order polynomial regression. \n",
        "Display each of these 100 polynomials.\n"
      ]
    },
    {
      "cell_type": "code",
      "execution_count": null,
      "metadata": {
        "deletable": false,
        "nbgrader": {
          "cell_type": "code",
          "checksum": "a6cbc9e5b0de9f7f9c847b1209275748",
          "grade": true,
          "grade_id": "cell-68cf4e7a773b42b9",
          "locked": false,
          "points": 5,
          "schema_version": 3,
          "solution": true
        },
        "id": "uwmPRUJH_RlZ"
      },
      "outputs": [],
      "source": [
        "# YOUR CODE HERE\n",
        "raise NotImplementedError()"
      ]
    },
    {
      "cell_type": "markdown",
      "metadata": {
        "deletable": false,
        "editable": false,
        "nbgrader": {
          "cell_type": "markdown",
          "checksum": "a17d4c2e94d28da195bdeacca04814e4",
          "grade": false,
          "grade_id": "cell-4fdd4eca06d7b5d5",
          "locked": true,
          "schema_version": 3,
          "solution": false
        },
        "id": "MNu1VU7x_RlZ"
      },
      "source": [
        "### 2.5 Additional questions (10 points)\n",
        "\n",
        "a) (5 points) Why is $\\beta=16$ the best choice of $\\beta$ in section 2.4?\n",
        "\n"
      ]
    },
    {
      "cell_type": "markdown",
      "metadata": {
        "deletable": false,
        "nbgrader": {
          "cell_type": "markdown",
          "checksum": "16413525920dbbe3f4bfe717867204ba",
          "grade": true,
          "grade_id": "cell-ac9287d87d554547",
          "locked": false,
          "points": 5,
          "schema_version": 3,
          "solution": true
        },
        "id": "S_EKOmKi_Rla"
      },
      "source": [
        "YOUR ANSWER HERE"
      ]
    },
    {
      "cell_type": "markdown",
      "metadata": {
        "deletable": false,
        "editable": false,
        "nbgrader": {
          "cell_type": "markdown",
          "checksum": "5db5f599fe17da142e4a8d0632b2a42d",
          "grade": false,
          "grade_id": "cell-c3c65e3353057680",
          "locked": true,
          "schema_version": 3,
          "solution": false
        },
        "id": "4_Fl9g_c_Rla"
      },
      "source": [
        "b) (5 points) What problems do we face when it comes to choosing basis functions in linear models?"
      ]
    },
    {
      "cell_type": "markdown",
      "metadata": {
        "collapsed": true,
        "deletable": false,
        "nbgrader": {
          "cell_type": "markdown",
          "checksum": "d28f3ba5fe296d03caca39c240fbb769",
          "grade": true,
          "grade_id": "cell-a3e38ba4c988b6a9",
          "locked": false,
          "points": 5,
          "schema_version": 3,
          "solution": true
        },
        "id": "zCDWkI3-_Rla"
      },
      "source": [
        "YOUR ANSWER HERE"
      ]
    },
    {
      "cell_type": "code",
      "execution_count": null,
      "metadata": {
        "id": "H03FXlRS_Rla"
      },
      "outputs": [],
      "source": []
    },
    {
      "cell_type": "code",
      "execution_count": null,
      "metadata": {
        "id": "c_aOpgm1_Rla"
      },
      "outputs": [],
      "source": []
    }
  ],
  "metadata": {
    "kernelspec": {
      "display_name": "Python [conda env:ml1labs] *",
      "language": "python",
      "name": "conda-env-ml1labs-py"
    },
    "language_info": {
      "codemirror_mode": {
        "name": "ipython",
        "version": 3
      },
      "file_extension": ".py",
      "mimetype": "text/x-python",
      "name": "python",
      "nbconvert_exporter": "python",
      "pygments_lexer": "ipython3",
      "version": "3.9.5"
    },
    "toc": {
      "base_numbering": 1,
      "nav_menu": {},
      "number_sections": true,
      "sideBar": true,
      "skip_h1_title": false,
      "title_cell": "Table of Contents",
      "title_sidebar": "Contents",
      "toc_cell": false,
      "toc_position": {},
      "toc_section_display": true,
      "toc_window_display": false
    },
    "vscode": {
      "interpreter": {
        "hash": "e25b773d072dd9f93e757774256558c671135decaea047ac398712eefa19005c"
      }
    },
    "colab": {
      "provenance": [],
      "include_colab_link": true
    }
  },
  "nbformat": 4,
  "nbformat_minor": 0
}